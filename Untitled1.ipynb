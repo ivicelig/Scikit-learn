{
 "cells": [
  {
   "cell_type": "code",
   "execution_count": 8,
   "metadata": {},
   "outputs": [
    {
     "name": "stdout",
     "output_type": "stream",
     "text": [
      "[[-0.88597853 -0.98421521 -1.41421356 -1.30559365 -1.41421356]\n",
      " [-0.51162141  1.37159059  0.70710678  1.12350789  0.70710678]\n",
      " [ 1.39759994 -0.38737538  0.70710678  0.18208576  0.70710678]]\n"
     ]
    }
   ],
   "source": [
    "from sklearn.preprocessing import StandardScaler\n",
    "\n",
    "std_scaler = StandardScaler()\n",
    "array_test = [[1,2,3,4,5],[21,12321,213,213,123],[123,3123,213,132,123]]\n",
    "c = std_scaler.fit_transform(array_test)\n",
    "print(c)"
   ]
  }
 ],
 "metadata": {
  "kernelspec": {
   "display_name": "Python 3",
   "language": "python",
   "name": "python3"
  },
  "language_info": {
   "codemirror_mode": {
    "name": "ipython",
    "version": 3
   },
   "file_extension": ".py",
   "mimetype": "text/x-python",
   "name": "python",
   "nbconvert_exporter": "python",
   "pygments_lexer": "ipython3",
   "version": "3.6.4"
  }
 },
 "nbformat": 4,
 "nbformat_minor": 2
}
